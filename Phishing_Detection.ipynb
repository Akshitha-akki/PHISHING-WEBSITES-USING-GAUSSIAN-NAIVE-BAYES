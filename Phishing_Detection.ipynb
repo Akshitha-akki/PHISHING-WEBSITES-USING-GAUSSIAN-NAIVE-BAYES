{
  "cells": [
    {
      "cell_type": "code",
      "execution_count": 2,
      "metadata": {
        "scrolled": true,
        "id": "3DMm9IaCTL63"
      },
      "outputs": [],
      "source": [
        "# FILE Accessing and data frames.\n",
        "import pandas as pd\n",
        "# For numerical data (mathematical and logical operations).\n",
        "import numpy as np \n",
        "# matplotlib-data visualization & graphical plotting.\n",
        "import matplotlib.pyplot as plt  # matplotlib.pyplot-pyplot is a function which creates a figures,decorates a plot. \n",
        "#set of tools to provide lightweight pipelining\n",
        "import joblib \n",
        "#sklearn- robust\n",
        "#sklearn.metrics-functions to measure classification performance.\n",
        "#accuracy_score- GaussianNB return value depends on the setting for the normalize parameter,multilabel classification.\n",
        "from sklearn.metrics import accuracy_score \n",
        "#classification_report-measure the quality of predictions from a classification algorithm. \n",
        "from sklearn.metrics import classification_report\n",
        "#confusion_matrix-evaluating the performance of a classification model.\n",
        "from sklearn.metrics import confusion_matrix \n",
        "#feature_extraction.text-extract features.\n",
        "#TfidfVectorizer-Convert a collection of raw documents to a matrix of TF-IDF features.\n",
        "from sklearn.feature_extraction.text import TfidfVectorizer\n",
        "#CountVectorizer-Convert a collection of text documents to a matrix of token counts.\n",
        "from sklearn.feature_extraction.text import CountVectorizer \n",
        "#model_selection-blueprint to analyze data.\n",
        "#train_test_split-splitting data (arrays into two subsets)\n",
        "from sklearn.model_selection import train_test_split \n",
        "#set of supervised machine learning classification algorithms.\n",
        "from sklearn.naive_bayes import GaussianNB\n",
        "#imblrean - dealing with classification with imbalanced classes.\n",
        "#SMOTE - creates new samples.\n",
        "#over_sampling - randomly selecting examples\n",
        "from imblearn.over_sampling import SMOTE\n",
        "#re - regular expression specifies a set of strings that matches it\n",
        "import re \n",
        "#math - access mathematical functions\n",
        "import math \n",
        "#pickel - convert a python object into a character stream\n",
        "import pickle \n",
        "#Counter - container that holds the count of each elements present in the container.\n",
        "#collections - container data types\n",
        "#counter - count objects in an iterable\n",
        "from collections import Counter "
      ]
    },
    {
      "cell_type": "code",
      "execution_count": 12,
      "metadata": {
        "id": "KOYLVotITL65"
      },
      "outputs": [],
      "source": [
        "class PhishingModel():\n",
        "    def __init__(self,file_name):\n",
        "        self.url_data = pd.read_csv(file_name,error_bad_lines=False).sample(frac=1).reset_index(drop=True)\n",
        "        self.bad_data = self.url_data[self.url_data['label']=='bad']\n",
        "        self.good_data = self.url_data[self.url_data['label']=='good']\n",
        "        self.preprocess_data = []\n",
        "        self.labels=[]\n",
        "        self.tfidf = TfidfVectorizer(tokenizer=self.pre_process_url)\n",
        "        self.x_train = None\n",
        "        self.y_train = None\n",
        "        self.x_test = None\n",
        "        self.y_test = None\n",
        "        self.count=None\n",
        "        self.model = GaussianNB()\n",
        "        self.sm = SMOTE(random_state=2)\n",
        "        \n",
        "    def printData(self):\n",
        "        print(self.url_data[:20])\n",
        "        \n",
        "    def create_graph(self,labels,counts,title):\n",
        "        plt.title(title)\n",
        "        plt.bar(labels,counts)\n",
        "        plt.xlabel(\"Labels\")\n",
        "        plt.ylabel(\"Counts\")\n",
        "        plt.plot()\n",
        "        \n",
        "    def model_bar_graph(self,urls):\n",
        "        labels = np.unique(self.url_data['label'].values)\n",
        "        counts = []\n",
        "        for x in labels:\n",
        "            counts.append(len(self.url_data[self.url_data['label']==x].values))\n",
        "        total = sum(counts)\n",
        "        for i in range(len(counts)):\n",
        "            counts[i] = round(((counts[i]/total)*100),2)\n",
        "        self.create_graph(labels,counts,\"URL count\")\n",
        "    \n",
        "    \n",
        "        \n",
        "    def draw_bar_graph(self,url,title):\n",
        "        labels = []\n",
        "        total=0\n",
        "        counts=[]\n",
        "        for x in url:\n",
        "            total+=url[x]\n",
        "            counts.append(url[x])\n",
        "            if(x==1):\n",
        "                labels.append(\"good\")\n",
        "            else:\n",
        "                labels.append(\"bad\")\n",
        "            \n",
        "        for i in range(len(counts)):\n",
        "            counts[i] = round(((counts[i]/total)*100),2)\n",
        "        self.create_graph(labels,counts,title)\n",
        "        \n",
        "    def check_balance(self):\n",
        "        entropy = 0.0\n",
        "        labels = [\"good\",\"bad\"]\n",
        "        counts = []\n",
        "        for x in labels:\n",
        "            counts.append(len(self.url_data[self.url_data['label']==x].values))\n",
        "        entropy = 0.0\n",
        "        total = sum(counts)\n",
        "        for x in counts:\n",
        "            entropy += (-(x/total)*np.log(x/total))\n",
        "          \n",
        "        shannon_en = entropy/np.log(len(counts))\n",
        "        shannon_en = round(shannon_en,3)\n",
        "\n",
        "        print(shannon_en)\n",
        "\n",
        "        if(shannon_en > 0.8):\n",
        "            print(\"Data is Balanced\")\n",
        "            print(\"Calculated Entrophy: \",shannon_en)\n",
        "        else:\n",
        "            print(\"Data is Imbalanced\")\n",
        "            print(\"Calculated Entrophy: \",shannon_en)\n",
        "            \n",
        "    def pre_process_url(self,url):\n",
        "        data = str(url.encode('utf-8')).split('/')\n",
        "        total_token = []\n",
        "        for x in data:\n",
        "            token = str(x).split('-')\n",
        "            token_by_dot=[]\n",
        "            for y in token:\n",
        "                temp_token = str(y).split('.')\n",
        "                token_by_dot+=temp_token\n",
        "            total_token =total_token+token+ token_by_dot\n",
        "        total_token = list(set(total_token))\n",
        "        \n",
        "        if 'com' in total_token:\n",
        "            total_token.remove('com')\n",
        "        for i in range(len(total_token)):\n",
        "            total_token[i] = re.sub(r\"[b']+\",'',total_token[i])\n",
        "        if '' in total_token:\n",
        "            total_token.remove('')\n",
        "        return total_token\n",
        "    \n",
        "    def save_tfidf(self):\n",
        "        pickle.dump(self.tfidf, open(\"tfidf.pickle\", \"wb\"))\n",
        "        \n",
        "    def process_data(self,sample=20,train_all=0):\n",
        "        c=0\n",
        "        url = self.url_data['url']\n",
        "        label = self.url_data['label']\n",
        "        \n",
        "        if(train_all==1):\n",
        "            \n",
        "            sample = int(0.05*len(self.url_data))\n",
        "        \n",
        "        check_data=[]\n",
        "        for i in range(sample):\n",
        "            check_data.append(url[i])\n",
        "        self.preprocess_data = self.tfidf.fit_transform(check_data)\n",
        "        for y in label:\n",
        "            if(y=='good'):\n",
        "                self.labels.append(1)\n",
        "            else:\n",
        "                self.labels.append(0)\n",
        "            c+=1\n",
        "            if(c==sample):\n",
        "                break\n",
        "        self.x_train, self.x_test, self.y_train, self.y_test = train_test_split(self.preprocess_data,self.labels,test_size=0.2,random_state=42)\n",
        "    \n",
        "   \n",
        "    def handle_imbalance_data(self):\n",
        "      \n",
        "        before_smote = Counter(self.y_train)\n",
        "#        \n",
        "        \n",
        "        self.x_train,self.y_train = self.sm.fit_resample(self.x_train,self.y_train)\n",
        "        after_smote = Counter(self.y_train)\n",
        "#         \n",
        "        \n",
        "        return before_smote,after_smote\n",
        "        \n",
        "    def train_model(self):\n",
        "        self.model.fit(self.x_train.toarray(),self.y_train)\n",
        "        joblib.dump(self.model,\"train_model.pkl\")\n",
        "    \n",
        "    def test_accuracy(self):\n",
        "        self.model= joblib.load('train_model.pkl')\n",
        "        predicted_label = self.model.predict(self.x_test.toarray())\n",
        "        acc = accuracy_score(self.y_test,predicted_label)*100\n",
        "        print(str(acc)+'%')\n",
        "        \n",
        "    def print_confusion_matrix(self):\n",
        "        self.model= joblib.load('train_model.pkl')\n",
        "        predicted_label = self.model.predict(self.x_test.toarray())\n",
        "        data = confusion_matrix(self.y_test,predicted_label)\n",
        "        df_cm = pd.DataFrame(data, columns=np.unique(self.y_test), index = np.unique(self.y_test))\n",
        "        df_cm.index.name = 'Actual'\n",
        "        df_cm.columns.name = 'Predicted'\n",
        "        plt.figure(figsize = (10,7))\n",
        "        sns.set(font_scale=1.4)#for label size\n",
        "        sns.heatmap(df_cm, cmap=\"Blues\", annot=True,annot_kws={\"size\": 16})\n",
        "    \n",
        "    def print_classification_report(self):\n",
        "        self.model= joblib.load('train_model.pkl')\n",
        "        predicted_label = self.model.predict(self.x_test.toarray())\n",
        "        print(classification_report(self.y_test,predicted_label))\n",
        "        \n",
        "    def predict_type(self,url):\n",
        "        self.model= joblib.load('train_model.pkl')\n",
        "        self.tfidf = pickle.load(open(\"tfidf.pickle\", \"rb\"))\n",
        "        prep = self.tfidf.transform([url])\n",
        "        flag = self.model.predict(prep.toarray())\n",
        "        if(flag[0]==1):\n",
        "            return \"Url is Good\"\n",
        "        else:\n",
        "            return \"Url is Bad\"\n"
      ]
    },
    {
      "cell_type": "code",
      "execution_count": 13,
      "metadata": {
        "id": "914y7jqpTL67"
      },
      "outputs": [],
      "source": [
        "if __name__ == \"__main__\":\n",
        "    eda = PhishingModel(\"/content/data.csv\")\n",
        "    #here, we will put number of random sample and put one flag value, which will test that\n",
        "    eda.process_data(sample=1000,train_all=0)"
      ]
    },
    {
      "cell_type": "code",
      "execution_count": 14,
      "metadata": {
        "scrolled": false,
        "colab": {
          "base_uri": "https://localhost:8080/"
        },
        "id": "kqFIfnO5TL68",
        "outputId": "753e1c7a-6055-4b93-8605-ba10f0771b1f"
      },
      "outputs": [
        {
          "output_type": "stream",
          "name": "stdout",
          "text": [
            "0.68\n",
            "Data is Imbalanced\n",
            "Calculated Entrophy:  0.68\n"
          ]
        }
      ],
      "source": [
        "#it has two parameter\n",
        "#sample\n",
        "#train_all, It will help to decide, train whole dataset or train with it decided number of sample\n",
        "eda.check_balance()"
      ]
    },
    {
      "cell_type": "code",
      "execution_count": 15,
      "metadata": {
        "colab": {
          "base_uri": "https://localhost:8080/"
        },
        "id": "mvm9OonGTL69",
        "outputId": "3c054f5b-46a4-402e-bea1-16362ad4b112"
      },
      "outputs": [
        {
          "output_type": "stream",
          "name": "stdout",
          "text": [
            "Counter({1: 659, 0: 141})\n",
            "Counter({1: 659, 0: 659})\n"
          ]
        }
      ],
      "source": [
        "bf_smt,af_smt = eda.handle_imbalance_data()\n",
        "print(bf_smt)\n",
        "print(af_smt)"
      ]
    },
    {
      "cell_type": "code",
      "execution_count": 16,
      "metadata": {
        "colab": {
          "base_uri": "https://localhost:8080/",
          "height": 295
        },
        "id": "cPSyU8obTL69",
        "outputId": "7bf536fe-0312-4660-b668-ebad2844d547"
      },
      "outputs": [
        {
          "output_type": "display_data",
          "data": {
            "image/png": "[encoded data removed]",
            "text/plain": [
              "<Figure size 432x288 with 1 Axes>"
            ]
          },
          "metadata": {
            "needs_background": "light"
          }
        }
      ],
      "source": [
        "eda.draw_bar_graph(bf_smt,\"Before SMOTE\")"
      ]
    },
    {
      "cell_type": "code",
      "execution_count": 17,
      "metadata": {
        "colab": {
          "base_uri": "https://localhost:8080/",
          "height": 295
        },
        "id": "VM8yDPzDTL6-",
        "outputId": "d0023d5a-df8e-444b-b1e6-fae71578578a"
      },
      "outputs": [
        {
          "output_type": "display_data",
          "data": {
            "image/png": "[encoded data removed]",
            "text/plain": [
              "<Figure size 432x288 with 1 Axes>"
            ]
          },
          "metadata": {
            "needs_background": "light"
          }
        }
      ],
      "source": [
        "eda.draw_bar_graph(af_smt,\"After SMOTE\")"
      ]
    },
    {
      "cell_type": "code",
      "execution_count": 18,
      "metadata": {
        "id": "Iufkb1bwTL6-"
      },
      "outputs": [],
      "source": [
        "eda.train_model()\n",
        "eda.save_tfidf()"
      ]
    },
    {
      "cell_type": "code",
      "execution_count": 21,
      "metadata": {
        "colab": {
          "base_uri": "https://localhost:8080/"
        },
        "id": "iRKSkfz8TL6_",
        "outputId": "3ebdd321-2b50-4f72-8acd-48119d5e1c78"
      },
      "outputs": [
        {
          "output_type": "stream",
          "name": "stdout",
          "text": [
            "type your urlwww.google.com\n",
            "Url is Good\n"
          ]
        }
      ],
      "source": [
        "print(eda.predict_type(input(\"type your url\")))"
      ]
    },
    {
      "cell_type": "code",
      "execution_count": null,
      "metadata": {
        "id": "0DAYYW96TL6_"
      },
      "outputs": [],
      "source": [
        ""
      ]
    }
  ],
  "metadata": {
    "kernelspec": {
      "display_name": "Python 3",
      "language": "python",
      "name": "python3"
    },
    "language_info": {
      "codemirror_mode": {
        "name": "ipython",
        "version": 3
      },
      "file_extension": ".py",
      "mimetype": "text/x-python",
      "name": "python",
      "nbconvert_exporter": "python",
      "pygments_lexer": "ipython3",
      "version": "3.8.8"
    },
    "colab": {
      "name": "Phishing Detection.ipynb",
      "provenance": [],
      "collapsed_sections": []
    }
  },
  "nbformat": 4,
  "nbformat_minor": 0
}